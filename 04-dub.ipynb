{
 "cells": [
  {
   "cell_type": "code",
   "execution_count": 1,
   "metadata": {},
   "outputs": [],
   "source": [
    "from pydub import AudioSegment"
   ]
  },
  {
   "cell_type": "code",
   "execution_count": 2,
   "metadata": {},
   "outputs": [],
   "source": [
    "import json\n",
    "\n",
    "json_filename = \"output/d3c3dd81765047c88c606109b0a97487.json\"\n",
    "video_uuid = json_filename.replace(\"output/\", \"\").replace(\".json\", \"\")\n",
    "\n",
    "f = open(json_filename)\n",
    "subtitles = json.load(f)"
   ]
  },
  {
   "cell_type": "code",
   "execution_count": 3,
   "metadata": {},
   "outputs": [],
   "source": [
    "orig_sound = AudioSegment.from_file(\"output/{video_uuid}.wav\".format(video_uuid=video_uuid), format=\"wav\")"
   ]
  },
  {
   "cell_type": "code",
   "execution_count": 4,
   "metadata": {},
   "outputs": [],
   "source": [
    "quiter_orig = orig_sound - 15"
   ]
  },
  {
   "cell_type": "code",
   "execution_count": 5,
   "metadata": {},
   "outputs": [],
   "source": [
    "for i, subtitle in enumerate(subtitles):\n",
    "    translation_fragment = AudioSegment.from_file(\"output/{video_uuid}/{i}-vol.wav\".format(video_uuid=video_uuid, i=str(i)), format=\"wav\")\n",
    "    translation_fragment + 20\n",
    "    max_length = int(1000 * subtitle[\"end\"] - 1000 * subtitle[\"start\"])\n",
    "    if len(translation_fragment) > max_length:\n",
    "        translation_fragment = translation_fragment[:max_length]\n",
    "    quiter_orig = quiter_orig.overlay(translation_fragment, position=int(1000 * subtitle[\"start\"]))"
   ]
  },
  {
   "cell_type": "code",
   "execution_count": 6,
   "metadata": {},
   "outputs": [],
   "source": [
    "file_handle = quiter_orig.export(\"output/{video_uuid}-vol.wav\".format(video_uuid=video_uuid), format=\"mp3\")"
   ]
  },
  {
   "cell_type": "code",
   "execution_count": 7,
   "metadata": {},
   "outputs": [
    {
     "name": "stdout",
     "output_type": "stream",
     "text": [
      "ffmpeg version 4.2.2 Copyright (c) 2000-2019 the FFmpeg developers\n",
      "  built with gcc 7.3.0 (crosstool-NG 1.23.0.449-a04d0)\n",
      "  configuration: --prefix=/tmp/build/80754af9/ffmpeg_1587154242452/_h_env_placehold_placehold_placehold_placehold_placehold_placehold_placehold_placehold_placehold_placehold_placehold_placehold_placehold_placehold_placehold_placehold_placehold_placehold_placehold_placehold_placeho --cc=/tmp/build/80754af9/ffmpeg_1587154242452/_build_env/bin/x86_64-conda_cos6-linux-gnu-cc --disable-doc --enable-avresample --enable-gmp --enable-hardcoded-tables --enable-libfreetype --enable-libvpx --enable-pthreads --enable-libopus --enable-postproc --enable-pic --enable-pthreads --enable-shared --enable-static --enable-version3 --enable-zlib --enable-libmp3lame --disable-nonfree --enable-gpl --enable-gnutls --disable-openssl --enable-libopenh264 --enable-libx264\n",
      "  libavutil      56. 31.100 / 56. 31.100\n",
      "  libavcodec     58. 54.100 / 58. 54.100\n",
      "  libavformat    58. 29.100 / 58. 29.100\n",
      "  libavdevice    58.  8.100 / 58.  8.100\n",
      "  libavfilter     7. 57.100 /  7. 57.100\n",
      "  libavresample   4.  0.  0 /  4.  0.  0\n",
      "  libswscale      5.  5.100 /  5.  5.100\n",
      "  libswresample   3.  5.100 /  3.  5.100\n",
      "  libpostproc    55.  5.100 / 55.  5.100\n",
      "Input #0, mov,mp4,m4a,3gp,3g2,mj2, from 'output/d3c3dd81765047c88c606109b0a97487.mp4':\n",
      "  Metadata:\n",
      "    major_brand     : mp42\n",
      "    minor_version   : 0\n",
      "    compatible_brands: isommp42\n",
      "    creation_time   : 2023-08-23T15:26:03.000000Z\n",
      "  Duration: 00:06:18.37, start: 0.000000, bitrate: 1166 kb/s\n",
      "    Stream #0:0(und): Video: h264 (High) (avc1 / 0x31637661), yuv420p(tv, bt709), 1280x720 [SAR 1:1 DAR 16:9], 1035 kb/s, 25 fps, 25 tbr, 12800 tbn, 50 tbc (default)\n",
      "    Metadata:\n",
      "      creation_time   : 2023-08-23T15:26:03.000000Z\n",
      "      handler_name    : ISO Media file produced by Google Inc. Created on: 08/23/2023.\n",
      "    Stream #0:1(und): Audio: aac (LC) (mp4a / 0x6134706D), 44100 Hz, stereo, fltp, 128 kb/s (default)\n",
      "    Metadata:\n",
      "      creation_time   : 2023-08-23T15:26:03.000000Z\n",
      "      handler_name    : ISO Media file produced by Google Inc. Created on: 08/23/2023.\n",
      "Input #1, mp3, from 'output/d3c3dd81765047c88c606109b0a97487-vol.wav':\n",
      "  Metadata:\n",
      "    encoder         : Lavf58.29.100\n",
      "  Duration: 00:06:18.43, start: 0.034531, bitrate: 48 kb/s\n",
      "    Stream #1:0: Audio: mp3, 32000 Hz, mono, fltp, 48 kb/s\n",
      "Stream mapping:\n",
      "  Stream #0:0 -> #0:0 (copy)\n",
      "  Stream #1:0 -> #0:1 (mp3 (mp3float) -> aac (native))\n",
      "Press [q] to stop, [?] for help\n",
      "Output #0, mp4, to 'output/d3c3dd81765047c88c606109b0a97487-new.mp4':\n",
      "  Metadata:\n",
      "    major_brand     : mp42\n",
      "    minor_version   : 0\n",
      "    compatible_brands: isommp42\n",
      "    encoder         : Lavf58.29.100\n",
      "    Stream #0:0(und): Video: h264 (High) (avc1 / 0x31637661), yuv420p(tv, bt709), 1280x720 [SAR 1:1 DAR 16:9], q=2-31, 1035 kb/s, 25 fps, 25 tbr, 12800 tbn, 12800 tbc (default)\n",
      "    Metadata:\n",
      "      creation_time   : 2023-08-23T15:26:03.000000Z\n",
      "      handler_name    : ISO Media file produced by Google Inc. Created on: 08/23/2023.\n",
      "    Stream #0:1: Audio: aac (LC) (mp4a / 0x6134706D), 32000 Hz, mono, fltp, 69 kb/s\n",
      "    Metadata:\n",
      "      encoder         : Lavc58.54.100 aac\n",
      "frame= 9459 fps=5898 q=-1.0 Lsize=   51295kB time=00:06:18.40 bitrate=1110.5kbits/s speed= 236x    \n",
      "video:47833kB audio:3216kB subtitle:0kB other streams:0kB global headers:0kB muxing overhead: 0.482257%\n",
      "\u001b[1;36m[aac @ 0x5619faa9e680] \u001b[0mQavg: 5378.768\n"
     ]
    }
   ],
   "source": [
    "!ffmpeg -i {\"output/\" + video_uuid +\".mp4\"} -i {\"output/\" + video_uuid +\"-vol.wav\"} -c:v copy -map 0:v:0 -map 1:a:0 {\"output/\" + video_uuid +\"-new.mp4\"}"
   ]
  },
  {
   "cell_type": "code",
   "execution_count": null,
   "metadata": {},
   "outputs": [],
   "source": []
  }
 ],
 "metadata": {
  "kernelspec": {
   "display_name": "voice",
   "language": "python",
   "name": "python3"
  },
  "language_info": {
   "codemirror_mode": {
    "name": "ipython",
    "version": 3
   },
   "file_extension": ".py",
   "mimetype": "text/x-python",
   "name": "python",
   "nbconvert_exporter": "python",
   "pygments_lexer": "ipython3",
   "version": "3.10.12"
  },
  "orig_nbformat": 4
 },
 "nbformat": 4,
 "nbformat_minor": 2
}
